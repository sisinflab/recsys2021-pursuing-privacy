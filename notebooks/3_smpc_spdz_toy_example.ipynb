{
 "cells": [
  {
   "cell_type": "markdown",
   "metadata": {
    "collapsed": true,
    "pycharm": {
     "name": "#%% md\n"
    }
   },
   "source": [
    "In this notebook, we will learn to implement a very simple SMPC model to reproduce the toy example of the beers."
   ]
  },
  {
   "cell_type": "code",
   "execution_count": 1,
   "outputs": [],
   "source": [
    "import random"
   ],
   "metadata": {
    "collapsed": false,
    "pycharm": {
     "name": "#%%\n"
    }
   }
  },
  {
   "cell_type": "markdown",
   "source": [
    "Let's define the encryption function.\n",
    "\n",
    "First, we assume to have a finite field to which the secrets and the shares belong. To do that, we define a very large prime number `Q` that acts as a modulus.\n",
    "\n",
    "Then, we can split a secret into `n_shares` shares by simply extracting `n_shares - 1` random numbers from this field and computing the last share accordingly."
   ],
   "metadata": {
    "collapsed": false,
    "pycharm": {
     "name": "#%% md\n"
    }
   }
  },
  {
   "cell_type": "code",
   "execution_count": 2,
   "outputs": [
    {
     "name": "stdout",
     "output_type": "stream",
     "text": [
      "(12364122492218430541415, 64029782574660301741891, -76393905066878732283206)\n"
     ]
    }
   ],
   "source": [
    "Q = 121639451781281043402593\n",
    "\n",
    "def encrypt(x, n_shares=2):\n",
    "    shares = list()\n",
    "    for i in range(n_shares - 1):\n",
    "        shares.append(random.randint(0, Q))\n",
    "    final_share = x - (sum(shares) % Q)\n",
    "    shares.append(final_share)\n",
    "    return tuple(shares)\n",
    "\n",
    "print(encrypt(100, 3))"
   ],
   "metadata": {
    "collapsed": false,
    "pycharm": {
     "name": "#%%\n"
    }
   }
  },
  {
   "cell_type": "markdown",
   "source": [
    "The secret can be then reconstructed by summing up the secrets."
   ],
   "metadata": {
    "collapsed": false,
    "pycharm": {
     "name": "#%% md\n"
    }
   }
  },
  {
   "cell_type": "code",
   "execution_count": 3,
   "outputs": [],
   "source": [
    "def decrypt(shares):\n",
    "    return sum(shares) % Q"
   ],
   "metadata": {
    "collapsed": false,
    "pycharm": {
     "name": "#%%\n"
    }
   }
  },
  {
   "cell_type": "markdown",
   "source": [
    "Let's consider now the example of the beers.\n",
    "\n",
    "Three friends have a secret about the number of beers they drank. Let's put their secrets in a list."
   ],
   "metadata": {
    "collapsed": false,
    "pycharm": {
     "name": "#%% md\n"
    }
   }
  },
  {
   "cell_type": "code",
   "execution_count": 4,
   "outputs": [],
   "source": [
    "secrets = [100, 200, 300]"
   ],
   "metadata": {
    "collapsed": false,
    "pycharm": {
     "name": "#%%\n"
    }
   }
  },
  {
   "cell_type": "markdown",
   "source": [
    "Now, we can encrypt their secrets into three shares each and put them into `local_shares`."
   ],
   "metadata": {
    "collapsed": false,
    "pycharm": {
     "name": "#%% md\n"
    }
   }
  },
  {
   "cell_type": "code",
   "execution_count": 5,
   "outputs": [
    {
     "name": "stdout",
     "output_type": "stream",
     "text": [
      "Local shares of the secrets: [[64278503187106038135448, 32725522716075533885208, 9469642060266965012837], [61438464969625396583246, 12941317312762433099877, 52035700946539323024715], [-4077516375450391316001, -45666840028837966984885, -61505343006806288037252]]\n"
     ]
    }
   ],
   "source": [
    "local_shares = [[], [], []]\n",
    "\n",
    "for s in secrets:\n",
    "    t = encrypt(s, 3)\n",
    "    for i in range(len(t)):\n",
    "        local_shares[i].append(t[i])\n",
    "\n",
    "print('Local shares of the secrets:', local_shares)"
   ],
   "metadata": {
    "collapsed": false,
    "pycharm": {
     "name": "#%%\n"
    }
   }
  },
  {
   "cell_type": "markdown",
   "source": [
    "Each party has now a piece of information about itself and the other two parties. The scheme we built has some homomorphic properties:\n",
    "* we can sum shares (e.g., if `x_1`, `x_2` is a sharing of `x` and `y_1`, `y_2` is a sharing of `y`, then `x_1 + y_1`, `x_2 + y_2` is a sharing of `x + y`);\n",
    "* we can sum or multiply shares with non-private values."
   ],
   "metadata": {
    "collapsed": false,
    "pycharm": {
     "name": "#%% md\n"
    }
   }
  },
  {
   "cell_type": "code",
   "execution_count": 6,
   "outputs": [],
   "source": [
    "local_computation = [sum(u) % Q for u in local_shares]"
   ],
   "metadata": {
    "collapsed": false,
    "pycharm": {
     "name": "#%%\n"
    }
   }
  },
  {
   "cell_type": "markdown",
   "source": [
    "Now, each party has a share of the sum of the secrets. We can now decrypt the final secret (the sum of the initial secrets) with the function created above."
   ],
   "metadata": {
    "collapsed": false,
    "pycharm": {
     "name": "#%% md\n"
    }
   }
  },
  {
   "cell_type": "code",
   "execution_count": 7,
   "outputs": [
    {
     "name": "stdout",
     "output_type": "stream",
     "text": [
      "Local shares of the sum of the secrets: [106473667963448537033493, 4776031447646109305245, 10389752370186397064455]\n",
      "200.0\n"
     ]
    }
   ],
   "source": [
    "print('Local shares of the sum of the secrets:', local_computation)\n",
    "print(decrypt(local_computation) / len(local_computation))"
   ],
   "metadata": {
    "collapsed": false,
    "pycharm": {
     "name": "#%%\n"
    }
   }
  },
  {
   "cell_type": "markdown",
   "source": [
    "To implement multiplication between shares, we should use the SPDZ protocol, which assumes the presence of a cryptoprovider that generates a triple of private numbers used to perform the multiplication.\n",
    "\n",
    "To wrap up all the ideas, we better formalize the previous approach creating classes for private and public values in the case of a secure two-party computation."
   ],
   "metadata": {
    "collapsed": false,
    "pycharm": {
     "name": "#%% md\n"
    }
   }
  },
  {
   "cell_type": "code",
   "execution_count": 8,
   "outputs": [],
   "source": [
    "class PrivateValue:\n",
    "    def __init__(self, value, share0=None, share1=None):\n",
    "        if not value is None:\n",
    "            share0, share1 = encrypt(value)\n",
    "        self.share0 = share0\n",
    "        self.share1 = share1\n",
    "\n",
    "    def decrypt(self):\n",
    "        return PublicValue(decrypt((self.share0, self.share1)))\n",
    "\n",
    "    def __add__(self, other):\n",
    "        if type(other) is PublicValue:\n",
    "            share0 = (self.share0 + other.value) % Q\n",
    "            share1 = self.share1\n",
    "            return PrivateValue(None, share0, share1)\n",
    "        elif type(other) is PrivateValue:\n",
    "            share0 = (self.share0 + other.share0) % Q\n",
    "            share1 = (self.share1 + other.share1) % Q\n",
    "            return PrivateValue(None, share0, share1)\n",
    "\n",
    "    def __sub__(self, other):\n",
    "        if type(other) is PublicValue:\n",
    "            share0 = (self.share0 - other.value) % Q\n",
    "            share1 = self.share1\n",
    "            return PrivateValue(None, share0, share1)\n",
    "        elif type(other) is PrivateValue:\n",
    "            share0 = (self.share0 - other.share0) % Q\n",
    "            share1 = (self.share1 - other.share1) % Q\n",
    "            return PrivateValue(None, share0, share1)\n",
    "\n",
    "    def __mul__(self, other):\n",
    "        def generate_mul_triple():\n",
    "            # Generated by the crypto provider\n",
    "            a = random.randrange(Q)\n",
    "            b = random.randrange(Q)\n",
    "            c = (a * b) % Q\n",
    "            return PrivateValue(a), PrivateValue(b), PrivateValue(c)\n",
    "            # The shares of these numbers are distributed to the two parts\n",
    "\n",
    "        if type(other) is PublicValue:\n",
    "            share0 = (self.share0 * other.value) % Q\n",
    "            share1 = (self.share1 * other.value) % Q\n",
    "            return PrivateValue(None, share0, share1)\n",
    "        elif type(other) is PrivateValue:\n",
    "            a, b, a_mul_b = generate_mul_triple()\n",
    "            alpha = (self - a).decrypt()\n",
    "            # i.e., each party subtracts a from self, then they jointly reconstruct this value\n",
    "            beta = (other - b).decrypt()\n",
    "            # i.e., each party subtracts a from other, then they jointly reconstruct this value\n",
    "            return (alpha * beta) + (a * beta) + (b * alpha) + a_mul_b\n",
    "            # i.e., (self * other - self * b - other * a + a * b) + (other * a - a * b) +\n",
    "            # (self * b - a * b) + (a * b)\n",
    "\n",
    "class PublicValue:\n",
    "    def __init__(self, value):\n",
    "        self.value = value\n",
    "\n",
    "    def __add__(self, other):\n",
    "        if type(other) is PrivateValue:\n",
    "            return other + self\n",
    "        elif type(other) is PublicValue:\n",
    "            return PublicValue(self.value + other.value)\n",
    "\n",
    "    def __sub__(self, other):\n",
    "        if type(other) is PrivateValue:\n",
    "            return other * PublicValue(-1) + self\n",
    "        elif type(other) is PublicValue:\n",
    "            return PublicValue(self.value - other.value)\n",
    "\n",
    "    def __mul__(self, other):\n",
    "        if type(other) is PrivateValue:\n",
    "            return other * self\n",
    "        elif type(other) is PublicValue:\n",
    "            return PublicValue(self.value * other.value)"
   ],
   "metadata": {
    "collapsed": false,
    "pycharm": {
     "name": "#%%\n"
    }
   }
  },
  {
   "cell_type": "markdown",
   "source": [
    "Let's play with this new environment"
   ],
   "metadata": {
    "collapsed": false,
    "pycharm": {
     "name": "#%% md\n"
    }
   }
  },
  {
   "cell_type": "code",
   "execution_count": null,
   "outputs": [],
   "source": [
    "print('Public number with value 7:', PublicValue(7).value)\n",
    "print('Private number with value 7 has the shares:', PrivateValue(7).share0, PrivateValue(7).share1)"
   ],
   "metadata": {
    "collapsed": false,
    "pycharm": {
     "name": "#%%\n"
    }
   }
  },
  {
   "cell_type": "markdown",
   "source": [
    "What happens with the operations?"
   ],
   "metadata": {
    "collapsed": false,
    "pycharm": {
     "name": "#%% md\n"
    }
   }
  },
  {
   "cell_type": "code",
   "source": [
    "x = PrivateValue(5)\n",
    "y = PrivateValue(3)\n",
    "z = PublicValue(10)\n",
    "s = x * y + z\n",
    "print('Shares of s:', s.share0, s.share1)\n",
    "print('Reconstructed value:', s.decrypt().value)"
   ],
   "metadata": {
    "collapsed": false,
    "pycharm": {
     "name": "#%%\n"
    }
   },
   "execution_count": null,
   "outputs": []
  }
 ],
 "metadata": {
  "kernelspec": {
   "display_name": "Python 3",
   "language": "python",
   "name": "python3"
  },
  "language_info": {
   "codemirror_mode": {
    "name": "ipython",
    "version": 2
   },
   "file_extension": ".py",
   "mimetype": "text/x-python",
   "name": "python",
   "nbconvert_exporter": "python",
   "pygments_lexer": "ipython2",
   "version": "2.7.6"
  }
 },
 "nbformat": 4,
 "nbformat_minor": 0
}