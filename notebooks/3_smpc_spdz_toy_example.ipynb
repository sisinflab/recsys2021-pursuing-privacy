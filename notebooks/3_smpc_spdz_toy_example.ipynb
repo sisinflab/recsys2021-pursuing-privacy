{
 "cells": [
  {
   "cell_type": "markdown",
   "metadata": {
    "collapsed": true,
    "pycharm": {
     "name": "#%% md\n"
    }
   },
   "source": [
    "In this notebook, we will learn to implement a very simple SMPC model to reproduce the toy example of the beers"
   ]
  },
  {
   "cell_type": "code",
   "execution_count": null,
   "outputs": [],
   "source": [
    "import random\n"
   ],
   "metadata": {
    "collapsed": false,
    "pycharm": {
     "name": "#%%\n"
    }
   }
  },
  {
   "cell_type": "markdown",
   "source": [
    "Let's define the encryption function.\n",
    "\n",
    "First, we assume to have a finite field to which the secrets and the shares belong. To do that, we define a very large prime number `Q` that acts as a modulus.\n",
    "\n",
    "Then, we can split a secret into `n_shares` shares by simply extracting `n_shares - 1` random numbers from this field and computing the last share accordingly."
   ],
   "metadata": {
    "collapsed": false,
    "pycharm": {
     "name": "#%% md\n"
    }
   }
  },
  {
   "cell_type": "code",
   "execution_count": null,
   "outputs": [],
   "source": [
    "Q = 121639451781281043402593\n",
    "\n",
    "def encrypt(x, n_shares=2):\n",
    "    shares = list()\n",
    "    for i in range(n_shares - 1):\n",
    "        shares.append(random.randint(0, Q))\n",
    "    final_share = x - (sum(shares) % Q)\n",
    "    shares.append(final_share)\n",
    "    return tuple(shares)\n",
    "\n",
    "print(encrypt(100, 3))"
   ],
   "metadata": {
    "collapsed": false,
    "pycharm": {
     "name": "#%%\n"
    }
   }
  },
  {
   "cell_type": "code",
   "execution_count": null,
   "outputs": [],
   "source": [
    "\n",
    "def decrypt(shares):\n",
    "    return sum(shares) % Q\n",
    "\n",
    "\n",
    "secrets = [100, 200, 300]\n",
    "local_shares = [[], [], []]\n",
    "\n",
    "for s in secrets:\n",
    "    t = encrypt(s, 3)\n",
    "    for i in range(len(t)):\n",
    "        local_shares[i].append(t[i])\n",
    "\n",
    "local_computation = [sum(u) % Q for u in local_shares]\n",
    "# The values in local_computation represent the shares of (A+B+C)\n",
    "print(local_computation)\n",
    "print(decrypt(local_computation) / len(local_computation))\n",
    "\n",
    "\n",
    "# We now integrate the SPDZ protocol, which assumes the presence of a cryptoprovider\n",
    "\n",
    "def generate_mul_triple():\n",
    "    a = random.randrange(Q)\n",
    "    b = random.randrange(Q)\n",
    "    a_mul_b = (a * b) % Q\n",
    "    return encrypt(a), encrypt(b), encrypt(a_mul_b)\n"
   ],
   "metadata": {
    "collapsed": false,
    "pycharm": {
     "name": "#%%\n"
    }
   }
  }
 ],
 "metadata": {
  "kernelspec": {
   "display_name": "Python 3",
   "language": "python",
   "name": "python3"
  },
  "language_info": {
   "codemirror_mode": {
    "name": "ipython",
    "version": 2
   },
   "file_extension": ".py",
   "mimetype": "text/x-python",
   "name": "python",
   "nbconvert_exporter": "python",
   "pygments_lexer": "ipython2",
   "version": "2.7.6"
  }
 },
 "nbformat": 4,
 "nbformat_minor": 0
}