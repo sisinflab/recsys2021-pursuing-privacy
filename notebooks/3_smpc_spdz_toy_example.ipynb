{
 "cells": [
  {
   "cell_type": "markdown",
   "metadata": {
    "collapsed": true,
    "pycharm": {
     "name": "#%% md\n"
    }
   },
   "source": [
    "In this notebook, we will learn to implement a very simple SMPC model to reproduce the toy example of the beers"
   ]
  },
  {
   "cell_type": "code",
   "execution_count": null,
   "outputs": [],
   "source": [
    "import random\n"
   ],
   "metadata": {
    "collapsed": false,
    "pycharm": {
     "name": "#%%\n"
    }
   }
  },
  {
   "cell_type": "markdown",
   "source": [
    "Let's define the encryption function.\n",
    "\n",
    "First, we assume to have a finite field to which the secrets and the shares belong. To do that, we define a very large prime number `Q` that acts as a modulus.\n",
    "\n",
    "Then, we can split a secret into `n_shares` shares by simply extracting `n_shares - 1` random numbers from this field and computing the last share accordingly."
   ],
   "metadata": {
    "collapsed": false,
    "pycharm": {
     "name": "#%% md\n"
    }
   }
  },
  {
   "cell_type": "code",
   "execution_count": null,
   "outputs": [],
   "source": [
    "Q = 121639451781281043402593\n",
    "\n",
    "def encrypt(x, n_shares=2):\n",
    "    shares = list()\n",
    "    for i in range(n_shares - 1):\n",
    "        shares.append(random.randint(0, Q))\n",
    "    final_share = x - (sum(shares) % Q)\n",
    "    shares.append(final_share)\n",
    "    return tuple(shares)\n",
    "\n",
    "print(encrypt(100, 3))\n"
   ],
   "metadata": {
    "collapsed": false,
    "pycharm": {
     "name": "#%%\n"
    }
   }
  },
  {
   "cell_type": "markdown",
   "source": [
    "The secret can be then reconstructed by summing up the secrets."
   ],
   "metadata": {
    "collapsed": false,
    "pycharm": {
     "name": "#%% md\n"
    }
   }
  },
  {
   "cell_type": "code",
   "execution_count": null,
   "outputs": [],
   "source": [
    "def decrypt(shares):\n",
    "    return sum(shares) % Q"
   ],
   "metadata": {
    "collapsed": false,
    "pycharm": {
     "name": "#%%\n"
    }
   }
  },
  {
   "cell_type": "markdown",
   "source": [
    "Let's consider now the example of the beers.\n",
    "\n",
    "Three friends have a secret about the number of beers they drank. Let's put their secrets in a list."
   ],
   "metadata": {
    "collapsed": false,
    "pycharm": {
     "name": "#%% md\n"
    }
   }
  },
  {
   "cell_type": "code",
   "execution_count": null,
   "outputs": [],
   "source": [
    "secrets = [100, 200, 300]"
   ],
   "metadata": {
    "collapsed": false,
    "pycharm": {
     "name": "#%%\n"
    }
   }
  },
  {
   "cell_type": "markdown",
   "source": [
    "Now, we can encrypt their secrets into three shares each and put them into `local_shares`."
   ],
   "metadata": {
    "collapsed": false,
    "pycharm": {
     "name": "#%% md\n"
    }
   }
  },
  {
   "cell_type": "code",
   "execution_count": null,
   "outputs": [],
   "source": [
    "local_shares = [[], [], []]\n",
    "\n",
    "for s in secrets:\n",
    "    t = encrypt(s, 3)\n",
    "    for i in range(len(t)):\n",
    "        local_shares[i].append(t[i])\n",
    "\n",
    "print('Local shares of the secrets:', local_shares)"
   ],
   "metadata": {
    "collapsed": false,
    "pycharm": {
     "name": "#%%\n"
    }
   }
  },
  {
   "cell_type": "markdown",
   "source": [
    "Each party has now a piece of information about itself and the other two parties. The scheme we built has some homomorphic properties:\n",
    "* we can sum shares (e.g., if `x_1`, `x_2` is a sharing of `x` and `y_1`, `y_2` is a sharing of `y`, then `x_1 + y_1`, `x_2 + y_2` is a sharing of `x + y`);\n",
    "* we can sum or multiply shares with non-private values."
   ],
   "metadata": {
    "collapsed": false,
    "pycharm": {
     "name": "#%% md\n"
    }
   }
  },
  {
   "cell_type": "code",
   "execution_count": null,
   "outputs": [],
   "source": [
    "local_computation = [sum(u) % Q for u in local_shares]"
   ],
   "metadata": {
    "collapsed": false,
    "pycharm": {
     "name": "#%%\n"
    }
   }
  },
  {
   "cell_type": "markdown",
   "source": [
    "Now, each party has a share of the sum of the secrets. We can now decrypt the final secret (the sum of the initial secrets) with the function created above."
   ],
   "metadata": {
    "collapsed": false,
    "pycharm": {
     "name": "#%% md\n"
    }
   }
  },
  {
   "cell_type": "code",
   "execution_count": null,
   "outputs": [],
   "source": [
    "print('Local shares of the sum of the secrets:', local_computation)\n",
    "print(decrypt(local_computation) / len(local_computation))"
   ],
   "metadata": {
    "collapsed": false,
    "pycharm": {
     "name": "#%%\n"
    }
   }
  },
  {
   "cell_type": "markdown",
   "source": [
    "Second part:"
   ],
   "metadata": {
    "collapsed": false,
    "pycharm": {
     "name": "#%% md\n"
    }
   }
  },
  {
   "cell_type": "code",
   "execution_count": null,
   "outputs": [],
   "source": [
    "# We now integrate the SPDZ protocol, which assumes the presence of a cryptoprovider\n",
    "\n",
    "def generate_mul_triple():\n",
    "    a = random.randrange(Q)\n",
    "    b = random.randrange(Q)\n",
    "    a_mul_b = (a * b) % Q\n",
    "    return encrypt(a), encrypt(b), encrypt(a_mul_b)\n"
   ],
   "metadata": {
    "collapsed": false,
    "pycharm": {
     "name": "#%%\n"
    }
   }
  }
 ],
 "metadata": {
  "kernelspec": {
   "display_name": "Python 3",
   "language": "python",
   "name": "python3"
  },
  "language_info": {
   "codemirror_mode": {
    "name": "ipython",
    "version": 2
   },
   "file_extension": ".py",
   "mimetype": "text/x-python",
   "name": "python",
   "nbconvert_exporter": "python",
   "pygments_lexer": "ipython2",
   "version": "2.7.6"
  }
 },
 "nbformat": 4,
 "nbformat_minor": 0
}